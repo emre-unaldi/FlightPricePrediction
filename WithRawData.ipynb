{
 "cells": [
  {
   "cell_type": "code",
   "execution_count": 29,
   "id": "737ad272",
   "metadata": {},
   "outputs": [],
   "source": [
    "import numpy as np \n",
    "import pandas as pd\n",
    "import os\n",
    "for dirname, _, filenames in os.walk('.\\kaggle'):\n",
    "    for filename in filenames:\n",
    "        print(os.path.join(dirname, filename))"
   ]
  },
  {
   "cell_type": "code",
   "execution_count": 30,
   "id": "3a5d34fe",
   "metadata": {},
   "outputs": [],
   "source": [
    "import seaborn as sns\n",
    "import matplotlib.pyplot as plt\n",
    "\n",
    "from sklearn.preprocessing import StandardScaler,MinMaxScaler,OneHotEncoder,LabelEncoder\n",
    "from sklearn.compose import ColumnTransformer,make_column_selector\n",
    "\n",
    "from sklearn.model_selection import train_test_split\n",
    "\n",
    "from sklearn.metrics import mean_absolute_error,mean_squared_error,r2_score\n",
    "\n",
    "sns.set_style('darkgrid')\n",
    "\n",
    "%matplotlib inline"
   ]
  },
  {
   "cell_type": "code",
   "execution_count": 31,
   "id": "03144584",
   "metadata": {},
   "outputs": [
    {
     "data": {
      "text/html": [
       "<div>\n",
       "<style scoped>\n",
       "    .dataframe tbody tr th:only-of-type {\n",
       "        vertical-align: middle;\n",
       "    }\n",
       "\n",
       "    .dataframe tbody tr th {\n",
       "        vertical-align: top;\n",
       "    }\n",
       "\n",
       "    .dataframe thead th {\n",
       "        text-align: right;\n",
       "    }\n",
       "</style>\n",
       "<table border=\"1\" class=\"dataframe\">\n",
       "  <thead>\n",
       "    <tr style=\"text-align: right;\">\n",
       "      <th></th>\n",
       "      <th>Unnamed: 0</th>\n",
       "      <th>airline</th>\n",
       "      <th>flight</th>\n",
       "      <th>source_city</th>\n",
       "      <th>departure_time</th>\n",
       "      <th>stops</th>\n",
       "      <th>arrival_time</th>\n",
       "      <th>destination_city</th>\n",
       "      <th>class</th>\n",
       "      <th>duration</th>\n",
       "      <th>days_left</th>\n",
       "      <th>price</th>\n",
       "    </tr>\n",
       "  </thead>\n",
       "  <tbody>\n",
       "    <tr>\n",
       "      <th>0</th>\n",
       "      <td>0</td>\n",
       "      <td>SpiceJet</td>\n",
       "      <td>SG-8709</td>\n",
       "      <td>Delhi</td>\n",
       "      <td>Evening</td>\n",
       "      <td>zero</td>\n",
       "      <td>Night</td>\n",
       "      <td>Mumbai</td>\n",
       "      <td>Economy</td>\n",
       "      <td>2.17</td>\n",
       "      <td>1</td>\n",
       "      <td>5953</td>\n",
       "    </tr>\n",
       "    <tr>\n",
       "      <th>1</th>\n",
       "      <td>1</td>\n",
       "      <td>SpiceJet</td>\n",
       "      <td>SG-8157</td>\n",
       "      <td>Delhi</td>\n",
       "      <td>Early_Morning</td>\n",
       "      <td>zero</td>\n",
       "      <td>Morning</td>\n",
       "      <td>Mumbai</td>\n",
       "      <td>Economy</td>\n",
       "      <td>2.33</td>\n",
       "      <td>1</td>\n",
       "      <td>5953</td>\n",
       "    </tr>\n",
       "    <tr>\n",
       "      <th>2</th>\n",
       "      <td>2</td>\n",
       "      <td>AirAsia</td>\n",
       "      <td>I5-764</td>\n",
       "      <td>Delhi</td>\n",
       "      <td>Early_Morning</td>\n",
       "      <td>zero</td>\n",
       "      <td>Early_Morning</td>\n",
       "      <td>Mumbai</td>\n",
       "      <td>Economy</td>\n",
       "      <td>2.17</td>\n",
       "      <td>1</td>\n",
       "      <td>5956</td>\n",
       "    </tr>\n",
       "    <tr>\n",
       "      <th>3</th>\n",
       "      <td>3</td>\n",
       "      <td>Vistara</td>\n",
       "      <td>UK-995</td>\n",
       "      <td>Delhi</td>\n",
       "      <td>Morning</td>\n",
       "      <td>zero</td>\n",
       "      <td>Afternoon</td>\n",
       "      <td>Mumbai</td>\n",
       "      <td>Economy</td>\n",
       "      <td>2.25</td>\n",
       "      <td>1</td>\n",
       "      <td>5955</td>\n",
       "    </tr>\n",
       "    <tr>\n",
       "      <th>4</th>\n",
       "      <td>4</td>\n",
       "      <td>Vistara</td>\n",
       "      <td>UK-963</td>\n",
       "      <td>Delhi</td>\n",
       "      <td>Morning</td>\n",
       "      <td>zero</td>\n",
       "      <td>Morning</td>\n",
       "      <td>Mumbai</td>\n",
       "      <td>Economy</td>\n",
       "      <td>2.33</td>\n",
       "      <td>1</td>\n",
       "      <td>5955</td>\n",
       "    </tr>\n",
       "  </tbody>\n",
       "</table>\n",
       "</div>"
      ],
      "text/plain": [
       "   Unnamed: 0   airline   flight source_city departure_time stops  \\\n",
       "0           0  SpiceJet  SG-8709       Delhi        Evening  zero   \n",
       "1           1  SpiceJet  SG-8157       Delhi  Early_Morning  zero   \n",
       "2           2   AirAsia   I5-764       Delhi  Early_Morning  zero   \n",
       "3           3   Vistara   UK-995       Delhi        Morning  zero   \n",
       "4           4   Vistara   UK-963       Delhi        Morning  zero   \n",
       "\n",
       "    arrival_time destination_city    class  duration  days_left  price  \n",
       "0          Night           Mumbai  Economy      2.17          1   5953  \n",
       "1        Morning           Mumbai  Economy      2.33          1   5953  \n",
       "2  Early_Morning           Mumbai  Economy      2.17          1   5956  \n",
       "3      Afternoon           Mumbai  Economy      2.25          1   5955  \n",
       "4        Morning           Mumbai  Economy      2.33          1   5955  "
      ]
     },
     "execution_count": 31,
     "metadata": {},
     "output_type": "execute_result"
    }
   ],
   "source": [
    "df=pd.read_csv('./kaggle/Clean_Dataset.csv')\n",
    "df.head()"
   ]
  },
  {
   "cell_type": "code",
   "execution_count": 32,
   "id": "7f0c0852",
   "metadata": {},
   "outputs": [
    {
     "data": {
      "text/plain": [
       "<AxesSubplot:>"
      ]
     },
     "execution_count": 32,
     "metadata": {},
     "output_type": "execute_result"
    },
    {
     "data": {
      "image/png": "[encoded data removed]",
      "text/plain": [
       "<Figure size 432x288 with 2 Axes>"
      ]
     },
     "metadata": {
      "needs_background": "light"
     },
     "output_type": "display_data"
    }
   ],
   "source": [
    "sns.heatmap(df.isna(),yticklabels=False)"
   ]
  },
  {
   "cell_type": "code",
   "execution_count": 33,
   "id": "5db7b913",
   "metadata": {},
   "outputs": [
    {
     "name": "stdout",
     "output_type": "stream",
     "text": [
      "<class 'pandas.core.frame.DataFrame'>\n",
      "RangeIndex: 300153 entries, 0 to 300152\n",
      "Data columns (total 12 columns):\n",
      " #   Column            Non-Null Count   Dtype  \n",
      "---  ------            --------------   -----  \n",
      " 0   Unnamed: 0        300153 non-null  int64  \n",
      " 1   airline           300153 non-null  object \n",
      " 2   flight            300153 non-null  object \n",
      " 3   source_city       300153 non-null  object \n",
      " 4   departure_time    300153 non-null  object \n",
      " 5   stops             300153 non-null  object \n",
      " 6   arrival_time      300153 non-null  object \n",
      " 7   destination_city  300153 non-null  object \n",
      " 8   class             300153 non-null  object \n",
      " 9   duration          300153 non-null  float64\n",
      " 10  days_left         300153 non-null  int64  \n",
      " 11  price             300153 non-null  int64  \n",
      "dtypes: float64(1), int64(3), object(8)\n",
      "memory usage: 27.5+ MB\n"
     ]
    }
   ],
   "source": [
    "df.info()"
   ]
  },
  {
   "cell_type": "code",
   "execution_count": 34,
   "id": "69e98962",
   "metadata": {},
   "outputs": [
    {
     "data": {
      "text/html": [
       "<div>\n",
       "<style scoped>\n",
       "    .dataframe tbody tr th:only-of-type {\n",
       "        vertical-align: middle;\n",
       "    }\n",
       "\n",
       "    .dataframe tbody tr th {\n",
       "        vertical-align: top;\n",
       "    }\n",
       "\n",
       "    .dataframe thead th {\n",
       "        text-align: right;\n",
       "    }\n",
       "</style>\n",
       "<table border=\"1\" class=\"dataframe\">\n",
       "  <thead>\n",
       "    <tr style=\"text-align: right;\">\n",
       "      <th></th>\n",
       "      <th>Unnamed: 0</th>\n",
       "      <th>duration</th>\n",
       "      <th>days_left</th>\n",
       "      <th>price</th>\n",
       "    </tr>\n",
       "  </thead>\n",
       "  <tbody>\n",
       "    <tr>\n",
       "      <th>count</th>\n",
       "      <td>300153.000000</td>\n",
       "      <td>300153.000000</td>\n",
       "      <td>300153.000000</td>\n",
       "      <td>300153.000000</td>\n",
       "    </tr>\n",
       "    <tr>\n",
       "      <th>mean</th>\n",
       "      <td>150076.000000</td>\n",
       "      <td>12.221021</td>\n",
       "      <td>26.004751</td>\n",
       "      <td>20889.660523</td>\n",
       "    </tr>\n",
       "    <tr>\n",
       "      <th>std</th>\n",
       "      <td>86646.852011</td>\n",
       "      <td>7.191997</td>\n",
       "      <td>13.561004</td>\n",
       "      <td>22697.767366</td>\n",
       "    </tr>\n",
       "    <tr>\n",
       "      <th>min</th>\n",
       "      <td>0.000000</td>\n",
       "      <td>0.830000</td>\n",
       "      <td>1.000000</td>\n",
       "      <td>1105.000000</td>\n",
       "    </tr>\n",
       "    <tr>\n",
       "      <th>25%</th>\n",
       "      <td>75038.000000</td>\n",
       "      <td>6.830000</td>\n",
       "      <td>15.000000</td>\n",
       "      <td>4783.000000</td>\n",
       "    </tr>\n",
       "    <tr>\n",
       "      <th>50%</th>\n",
       "      <td>150076.000000</td>\n",
       "      <td>11.250000</td>\n",
       "      <td>26.000000</td>\n",
       "      <td>7425.000000</td>\n",
       "    </tr>\n",
       "    <tr>\n",
       "      <th>75%</th>\n",
       "      <td>225114.000000</td>\n",
       "      <td>16.170000</td>\n",
       "      <td>38.000000</td>\n",
       "      <td>42521.000000</td>\n",
       "    </tr>\n",
       "    <tr>\n",
       "      <th>max</th>\n",
       "      <td>300152.000000</td>\n",
       "      <td>49.830000</td>\n",
       "      <td>49.000000</td>\n",
       "      <td>123071.000000</td>\n",
       "    </tr>\n",
       "  </tbody>\n",
       "</table>\n",
       "</div>"
      ],
      "text/plain": [
       "          Unnamed: 0       duration      days_left          price\n",
       "count  300153.000000  300153.000000  300153.000000  300153.000000\n",
       "mean   150076.000000      12.221021      26.004751   20889.660523\n",
       "std     86646.852011       7.191997      13.561004   22697.767366\n",
       "min         0.000000       0.830000       1.000000    1105.000000\n",
       "25%     75038.000000       6.830000      15.000000    4783.000000\n",
       "50%    150076.000000      11.250000      26.000000    7425.000000\n",
       "75%    225114.000000      16.170000      38.000000   42521.000000\n",
       "max    300152.000000      49.830000      49.000000  123071.000000"
      ]
     },
     "execution_count": 34,
     "metadata": {},
     "output_type": "execute_result"
    }
   ],
   "source": [
    "df.describe()"
   ]
  },
  {
   "cell_type": "code",
   "execution_count": 35,
   "id": "63a1ea3f",
   "metadata": {},
   "outputs": [
    {
     "name": "stdout",
     "output_type": "stream",
     "text": [
      "airline                   --->               6 unique values\n",
      "flight                    --->            1561 unique values\n",
      "source_city               --->               6 unique values\n",
      "departure_time            --->               6 unique values\n",
      "stops                     --->               3 unique values\n",
      "arrival_time              --->               6 unique values\n",
      "destination_city          --->               6 unique values\n",
      "class                     --->               2 unique values\n"
     ]
    }
   ],
   "source": [
    "for col in df.select_dtypes(include='object').columns:\n",
    "    \n",
    "    print(f\"{col:25} ---> {df[col].nunique():15} unique values\")"
   ]
  },
  {
   "cell_type": "code",
   "execution_count": 36,
   "id": "dc9d0553",
   "metadata": {},
   "outputs": [],
   "source": [
    "oh=OneHotEncoder(drop='first',handle_unknown='ignore')\n",
    "ms,ss=MinMaxScaler(),StandardScaler()\n",
    "\n",
    "\n",
    "ct=ColumnTransformer([\n",
    "    (\"cat_encoder\",oh,make_column_selector(dtype_include='object')),\n",
    "#     (\"num_encoder\",ms,make_column_selector(dtype_exclude='object'))\n",
    "],remainder='passthrough')"
   ]
  },
  {
   "cell_type": "code",
   "execution_count": 37,
   "id": "25f56f62",
   "metadata": {},
   "outputs": [
    {
     "data": {
      "text/plain": [
       "ColumnTransformer(remainder='passthrough',\n",
       "                  transformers=[('cat_encoder',\n",
       "                                 OneHotEncoder(drop='first',\n",
       "                                               handle_unknown='ignore'),\n",
       "                                 <sklearn.compose._column_transformer.make_column_selector object at 0x7fe243dd59a0>)])"
      ]
     },
     "execution_count": 37,
     "metadata": {},
     "output_type": "execute_result"
    }
   ],
   "source": [
    "ct"
   ]
  },
  {
   "cell_type": "code",
   "execution_count": 38,
   "id": "10a35fbf",
   "metadata": {},
   "outputs": [],
   "source": [
    "X=df.drop(['price'],axis=1)\n",
    "y=df[['price']]"
   ]
  },
  {
   "cell_type": "code",
   "execution_count": 39,
   "id": "5be32e0d",
   "metadata": {},
   "outputs": [],
   "source": [
    "X_train,X_test,y_train,y_test=train_test_split(X,y,test_size=0.1,random_state=42)"
   ]
  },
  {
   "cell_type": "code",
   "execution_count": 40,
   "id": "76485c37",
   "metadata": {},
   "outputs": [
    {
     "data": {
      "text/plain": [
       "((270137, 11), (30016, 11), (270137, 1), (30016, 1))"
      ]
     },
     "execution_count": 40,
     "metadata": {},
     "output_type": "execute_result"
    }
   ],
   "source": [
    "X_train.shape,X_test.shape,y_train.shape,y_test.shape"
   ]
  },
  {
   "cell_type": "code",
   "execution_count": 41,
   "id": "c8f59925",
   "metadata": {},
   "outputs": [
    {
     "data": {
      "text/html": [
       "<div>\n",
       "<style scoped>\n",
       "    .dataframe tbody tr th:only-of-type {\n",
       "        vertical-align: middle;\n",
       "    }\n",
       "\n",
       "    .dataframe tbody tr th {\n",
       "        vertical-align: top;\n",
       "    }\n",
       "\n",
       "    .dataframe thead th {\n",
       "        text-align: right;\n",
       "    }\n",
       "</style>\n",
       "<table border=\"1\" class=\"dataframe\">\n",
       "  <thead>\n",
       "    <tr style=\"text-align: right;\">\n",
       "      <th></th>\n",
       "      <th>Unnamed: 0</th>\n",
       "      <th>airline</th>\n",
       "      <th>flight</th>\n",
       "      <th>source_city</th>\n",
       "      <th>departure_time</th>\n",
       "      <th>stops</th>\n",
       "      <th>arrival_time</th>\n",
       "      <th>destination_city</th>\n",
       "      <th>class</th>\n",
       "      <th>duration</th>\n",
       "      <th>days_left</th>\n",
       "    </tr>\n",
       "  </thead>\n",
       "  <tbody>\n",
       "    <tr>\n",
       "      <th>27131</th>\n",
       "      <td>27131</td>\n",
       "      <td>Air_India</td>\n",
       "      <td>AI-506</td>\n",
       "      <td>Delhi</td>\n",
       "      <td>Morning</td>\n",
       "      <td>one</td>\n",
       "      <td>Early_Morning</td>\n",
       "      <td>Kolkata</td>\n",
       "      <td>Economy</td>\n",
       "      <td>19.75</td>\n",
       "      <td>40</td>\n",
       "    </tr>\n",
       "    <tr>\n",
       "      <th>266857</th>\n",
       "      <td>266857</td>\n",
       "      <td>Vistara</td>\n",
       "      <td>UK-706</td>\n",
       "      <td>Kolkata</td>\n",
       "      <td>Morning</td>\n",
       "      <td>one</td>\n",
       "      <td>Night</td>\n",
       "      <td>Mumbai</td>\n",
       "      <td>Business</td>\n",
       "      <td>9.83</td>\n",
       "      <td>42</td>\n",
       "    </tr>\n",
       "  </tbody>\n",
       "</table>\n",
       "</div>"
      ],
      "text/plain": [
       "        Unnamed: 0    airline  flight source_city departure_time stops  \\\n",
       "27131        27131  Air_India  AI-506       Delhi        Morning   one   \n",
       "266857      266857    Vistara  UK-706     Kolkata        Morning   one   \n",
       "\n",
       "         arrival_time destination_city     class  duration  days_left  \n",
       "27131   Early_Morning          Kolkata   Economy     19.75         40  \n",
       "266857          Night           Mumbai  Business      9.83         42  "
      ]
     },
     "execution_count": 41,
     "metadata": {},
     "output_type": "execute_result"
    }
   ],
   "source": [
    "X_test.head(2)"
   ]
  },
  {
   "cell_type": "code",
   "execution_count": 42,
   "id": "5686aee3",
   "metadata": {},
   "outputs": [
    {
     "data": {
      "text/html": [
       "<div>\n",
       "<style scoped>\n",
       "    .dataframe tbody tr th:only-of-type {\n",
       "        vertical-align: middle;\n",
       "    }\n",
       "\n",
       "    .dataframe tbody tr th {\n",
       "        vertical-align: top;\n",
       "    }\n",
       "\n",
       "    .dataframe thead th {\n",
       "        text-align: right;\n",
       "    }\n",
       "</style>\n",
       "<table border=\"1\" class=\"dataframe\">\n",
       "  <thead>\n",
       "    <tr style=\"text-align: right;\">\n",
       "      <th></th>\n",
       "      <th>price</th>\n",
       "    </tr>\n",
       "  </thead>\n",
       "  <tbody>\n",
       "    <tr>\n",
       "      <th>27131</th>\n",
       "      <td>7366</td>\n",
       "    </tr>\n",
       "    <tr>\n",
       "      <th>266857</th>\n",
       "      <td>64831</td>\n",
       "    </tr>\n",
       "  </tbody>\n",
       "</table>\n",
       "</div>"
      ],
      "text/plain": [
       "        price\n",
       "27131    7366\n",
       "266857  64831"
      ]
     },
     "execution_count": 42,
     "metadata": {},
     "output_type": "execute_result"
    }
   ],
   "source": [
    "y_test.head(2)"
   ]
  },
  {
   "cell_type": "code",
   "execution_count": 43,
   "id": "fd1c3f39",
   "metadata": {},
   "outputs": [],
   "source": [
    "X_train=ct.fit_transform(X_train)\n",
    "X_test=ct.transform(X_test)"
   ]
  },
  {
   "cell_type": "code",
   "execution_count": 44,
   "id": "c99f5eb7",
   "metadata": {},
   "outputs": [
    {
     "name": "stdout",
     "output_type": "stream",
     "text": [
      "--------------------------------------------------\n",
      "('cat_encoder', OneHotEncoder(drop='first', handle_unknown='ignore'), ['airline', 'flight', 'source_city', 'departure_time', 'stops', 'arrival_time', 'destination_city', 'class'])\n",
      "['airline_Air_India' 'airline_GO_FIRST' 'airline_Indigo' ...\n",
      " 'destination_city_Kolkata' 'destination_city_Mumbai' 'class_Economy']\n",
      "--------------------------------------------------\n",
      "('remainder', 'passthrough', [0, 9, 10])\n",
      "--------------------------------------------------\n"
     ]
    }
   ],
   "source": [
    "print(\"-\"*50)\n",
    "for i in ct.transformers_:\n",
    "    print(i)\n",
    "    if(i[0]!='remainder'):\n",
    "        print(i[1].get_feature_names_out())   \n",
    "    print(\"-\"*50)"
   ]
  },
  {
   "cell_type": "code",
   "execution_count": 45,
   "id": "00b91ad1",
   "metadata": {},
   "outputs": [
    {
     "data": {
      "text/plain": [
       "(array([[1.0000e+00, 0.0000e+00, 0.0000e+00, ..., 2.7131e+04, 1.9750e+01,\n",
       "         4.0000e+01]]),\n",
       " array([[7366]]))"
      ]
     },
     "execution_count": 45,
     "metadata": {},
     "output_type": "execute_result"
    }
   ],
   "source": [
    "X_test[0].toarray(),y_test.head(1).values"
   ]
  },
  {
   "cell_type": "code",
   "execution_count": 46,
   "id": "c9d38353",
   "metadata": {},
   "outputs": [],
   "source": [
    "from sklearn.linear_model import LinearRegression, Ridge\n",
    "\n",
    "from sklearn.svm import SVR\n",
    "\n",
    "from sklearn.tree import DecisionTreeRegressor,ExtraTreeRegressor\n",
    "\n",
    "from sklearn.ensemble import RandomForestRegressor,GradientBoostingRegressor,AdaBoostRegressor\n",
    "\n",
    "from sklearn.neighbors import KNeighborsRegressor"
   ]
  },
  {
   "cell_type": "code",
   "execution_count": 47,
   "id": "84e95be3",
   "metadata": {},
   "outputs": [],
   "source": [
    "from sklearn.neural_network import MLPRegressor\n",
    "reg_list=[\n",
    "    LinearRegression(n_jobs=-1),\n",
    "    DecisionTreeRegressor(),\n",
    "    ExtraTreeRegressor(),\n",
    "    RandomForestRegressor(n_estimators=100,n_jobs=-1),\n",
    "    GradientBoostingRegressor(n_estimators=100),\n",
    "    AdaBoostRegressor(n_estimators=100),\n",
    "    KNeighborsRegressor(n_neighbors=2),\n",
    "    Ridge(),\n",
    "    MLPRegressor(hidden_layer_sizes=(15,10,5), max_iter = 300,activation = 'relu', solver = 'adam')\n",
    "]"
   ]
  },
  {
   "cell_type": "code",
   "execution_count": 48,
   "id": "03a10298",
   "metadata": {},
   "outputs": [
    {
     "name": "stdout",
     "output_type": "stream",
     "text": [
      "--------------------------------------------------\n",
      "LinearRegression(n_jobs=-1)\n",
      "--------------------------------------------------\n",
      "DecisionTreeRegressor()\n",
      "--------------------------------------------------\n",
      "ExtraTreeRegressor()\n",
      "--------------------------------------------------\n",
      "RandomForestRegressor(n_jobs=-1)\n",
      "--------------------------------------------------\n",
      "GradientBoostingRegressor()\n",
      "--------------------------------------------------\n",
      "AdaBoostRegressor(n_estimators=100)\n",
      "--------------------------------------------------\n",
      "KNeighborsRegressor(n_neighbors=2)\n",
      "--------------------------------------------------\n",
      "Ridge()\n",
      "--------------------------------------------------\n",
      "MLPRegressor(hidden_layer_sizes=(15, 10, 5), max_iter=300)\n",
      "--------------------------------------------------\n"
     ]
    }
   ],
   "source": [
    "print(\"-\"*50)\n",
    "for reg in reg_list:\n",
    "    print(reg)\n",
    "    print(\"-\"*50) "
   ]
  },
  {
   "cell_type": "code",
   "execution_count": 49,
   "id": "d9279755",
   "metadata": {},
   "outputs": [
    {
     "name": "stdout",
     "output_type": "stream",
     "text": [
      "--------------------------------------------------\n",
      "Fitting LinearRegression done\n",
      "--------------------------------------------------\n",
      "Fitting DecisionTreeRegressor done\n",
      "--------------------------------------------------\n",
      "Fitting ExtraTreeRegressor done\n",
      "--------------------------------------------------\n",
      "Fitting RandomForestRegressor done\n",
      "--------------------------------------------------\n",
      "Fitting GradientBoostingRegressor done\n",
      "--------------------------------------------------\n",
      "Fitting AdaBoostRegressor done\n",
      "--------------------------------------------------\n",
      "Fitting KNeighborsRegressor done\n",
      "--------------------------------------------------\n",
      "Fitting Ridge done\n",
      "--------------------------------------------------\n",
      "Fitting MLPRegressor done\n",
      "--------------------------------------------------\n",
      "CPU times: user 54min 56s, sys: 3min 47s, total: 58min 43s\n",
      "Wall time: 9min 30s\n"
     ]
    }
   ],
   "source": [
    "%%time\n",
    "print(\"-\"*50)\n",
    "for reg in reg_list:\n",
    "    reg_name=reg.__class__.__name__\n",
    "    reg.fit(X_train,y_train.values.ravel())\n",
    "    print(f\"Fitting {reg_name} done\")\n",
    "    print(\"-\"*50)"
   ]
  },
  {
   "cell_type": "code",
   "execution_count": 50,
   "id": "4dcf110d",
   "metadata": {},
   "outputs": [
    {
     "name": "stdout",
     "output_type": "stream",
     "text": [
      "--------------------------------------------------\n",
      "LinearRegression\n",
      "R2 Score : 0.925542573445328\n",
      "Mean Absolute Error Score : 4267.244105703824\n",
      "Mean Sqaured Error Score : 38342549.34108666\n",
      "Root Mean Squared Error: 6192.1360887085375\n",
      "--------------------------------------------------\n",
      "DecisionTreeRegressor\n",
      "R2 Score : 0.9868742886960873\n",
      "Mean Absolute Error Score : 702.6477878464818\n",
      "Mean Sqaured Error Score : 6759208.001066098\n",
      "Root Mean Squared Error: 2599.8476880513786\n",
      "--------------------------------------------------\n",
      "ExtraTreeRegressor\n",
      "R2 Score : 0.9850264979949057\n",
      "Mean Absolute Error Score : 807.958388859275\n",
      "Mean Sqaured Error Score : 7710745.133228945\n",
      "Root Mean Squared Error: 2776.822848729991\n",
      "--------------------------------------------------\n",
      "RandomForestRegressor\n",
      "R2 Score : 0.9913039162405449\n",
      "Mean Absolute Error Score : 733.7883405517057\n",
      "Mean Sqaured Error Score : 4478129.799131594\n",
      "Root Mean Squared Error: 2116.159209306236\n",
      "--------------------------------------------------\n",
      "GradientBoostingRegressor\n",
      "R2 Score : 0.9553762700159028\n",
      "Mean Absolute Error Score : 2869.4847398611196\n",
      "Mean Sqaured Error Score : 22979407.802151833\n",
      "Root Mean Squared Error: 4793.684157529763\n",
      "--------------------------------------------------\n",
      "AdaBoostRegressor\n",
      "R2 Score : 0.9243135673618487\n",
      "Mean Absolute Error Score : 4072.969611543335\n",
      "Mean Sqaured Error Score : 38975437.537426576\n",
      "Root Mean Squared Error: 6243.031117768562\n",
      "--------------------------------------------------\n",
      "KNeighborsRegressor\n",
      "R2 Score : 0.9880395425752782\n",
      "Mean Absolute Error Score : 555.664029184435\n",
      "Mean Sqaured Error Score : 6159149.599571895\n",
      "Root Mean Squared Error: 2481.7634052366666\n",
      "--------------------------------------------------\n",
      "Ridge\n",
      "R2 Score : 0.5766067327200648\n",
      "Mean Absolute Error Score : 12092.876077042154\n",
      "Mean Sqaured Error Score : 218030329.44530573\n",
      "Root Mean Squared Error: 14765.850109130382\n",
      "--------------------------------------------------\n",
      "MLPRegressor\n",
      "R2 Score : 0.9372658470102937\n",
      "Mean Absolute Error Score : 3712.8310408786115\n",
      "Mean Sqaured Error Score : 32305539.792096924\n",
      "Root Mean Squared Error: 5683.7962482918865\n",
      "--------------------------------------------------\n"
     ]
    }
   ],
   "source": [
    "score_dict={}\n",
    "\n",
    "for reg in reg_list:\n",
    "    \n",
    "    reg_name = reg.__class__.__name__\n",
    "    \n",
    "    pred=reg.predict(X_test)\n",
    "    \n",
    "    print(\"-\"*50)\n",
    "    \n",
    "    print(reg_name)\n",
    "    \n",
    "    print(f\"R2 Score : {r2_score(y_test,pred)}\")\n",
    "    print(f\"Mean Absolute Error Score : {mean_absolute_error(y_test,pred)}\")\n",
    "    print(f\"Mean Sqaured Error Score : {mean_squared_error(y_test,pred)}\")\n",
    "    print(f\"Root Mean Squared Error: {mean_squared_error(y_test,pred, squared=False)}\")\n",
    "\n",
    "    \n",
    "    \n",
    "    score_dict[reg_name]={\n",
    "        \"R2 Score\":r2_score(y_test,pred),\n",
    "        \"Mean Absolute Error Score\":mean_absolute_error(y_test,pred),\n",
    "        \"Mean Squared Error Score\":mean_squared_error(y_test,pred),\n",
    "        \"Root Mean Squared Error\": mean_squared_error(y_test,pred, squared=False)\n",
    "    }\n",
    "    \n",
    "print(\"-\"*50)"
   ]
  },
  {
   "cell_type": "code",
   "execution_count": 51,
   "id": "6ec56005",
   "metadata": {},
   "outputs": [
    {
     "data": {
      "text/html": [
       "<div>\n",
       "<style scoped>\n",
       "    .dataframe tbody tr th:only-of-type {\n",
       "        vertical-align: middle;\n",
       "    }\n",
       "\n",
       "    .dataframe tbody tr th {\n",
       "        vertical-align: top;\n",
       "    }\n",
       "\n",
       "    .dataframe thead th {\n",
       "        text-align: right;\n",
       "    }\n",
       "</style>\n",
       "<table border=\"1\" class=\"dataframe\">\n",
       "  <thead>\n",
       "    <tr style=\"text-align: right;\">\n",
       "      <th></th>\n",
       "      <th>R2 Score</th>\n",
       "      <th>Mean Absolute Error Score</th>\n",
       "      <th>Mean Squared Error Score</th>\n",
       "      <th>Root Mean Squared Error</th>\n",
       "    </tr>\n",
       "  </thead>\n",
       "  <tbody>\n",
       "    <tr>\n",
       "      <th>RandomForestRegressor</th>\n",
       "      <td>0.991304</td>\n",
       "      <td>733.788341</td>\n",
       "      <td>4.478130e+06</td>\n",
       "      <td>2116.159209</td>\n",
       "    </tr>\n",
       "    <tr>\n",
       "      <th>KNeighborsRegressor</th>\n",
       "      <td>0.988040</td>\n",
       "      <td>555.664029</td>\n",
       "      <td>6.159150e+06</td>\n",
       "      <td>2481.763405</td>\n",
       "    </tr>\n",
       "    <tr>\n",
       "      <th>DecisionTreeRegressor</th>\n",
       "      <td>0.986874</td>\n",
       "      <td>702.647788</td>\n",
       "      <td>6.759208e+06</td>\n",
       "      <td>2599.847688</td>\n",
       "    </tr>\n",
       "    <tr>\n",
       "      <th>ExtraTreeRegressor</th>\n",
       "      <td>0.985026</td>\n",
       "      <td>807.958389</td>\n",
       "      <td>7.710745e+06</td>\n",
       "      <td>2776.822849</td>\n",
       "    </tr>\n",
       "    <tr>\n",
       "      <th>GradientBoostingRegressor</th>\n",
       "      <td>0.955376</td>\n",
       "      <td>2869.484740</td>\n",
       "      <td>2.297941e+07</td>\n",
       "      <td>4793.684158</td>\n",
       "    </tr>\n",
       "    <tr>\n",
       "      <th>MLPRegressor</th>\n",
       "      <td>0.937266</td>\n",
       "      <td>3712.831041</td>\n",
       "      <td>3.230554e+07</td>\n",
       "      <td>5683.796248</td>\n",
       "    </tr>\n",
       "    <tr>\n",
       "      <th>LinearRegression</th>\n",
       "      <td>0.925543</td>\n",
       "      <td>4267.244106</td>\n",
       "      <td>3.834255e+07</td>\n",
       "      <td>6192.136089</td>\n",
       "    </tr>\n",
       "    <tr>\n",
       "      <th>AdaBoostRegressor</th>\n",
       "      <td>0.924314</td>\n",
       "      <td>4072.969612</td>\n",
       "      <td>3.897544e+07</td>\n",
       "      <td>6243.031118</td>\n",
       "    </tr>\n",
       "    <tr>\n",
       "      <th>Ridge</th>\n",
       "      <td>0.576607</td>\n",
       "      <td>12092.876077</td>\n",
       "      <td>2.180303e+08</td>\n",
       "      <td>14765.850109</td>\n",
       "    </tr>\n",
       "  </tbody>\n",
       "</table>\n",
       "</div>"
      ],
      "text/plain": [
       "                           R2 Score  Mean Absolute Error Score  \\\n",
       "RandomForestRegressor      0.991304                 733.788341   \n",
       "KNeighborsRegressor        0.988040                 555.664029   \n",
       "DecisionTreeRegressor      0.986874                 702.647788   \n",
       "ExtraTreeRegressor         0.985026                 807.958389   \n",
       "GradientBoostingRegressor  0.955376                2869.484740   \n",
       "MLPRegressor               0.937266                3712.831041   \n",
       "LinearRegression           0.925543                4267.244106   \n",
       "AdaBoostRegressor          0.924314                4072.969612   \n",
       "Ridge                      0.576607               12092.876077   \n",
       "\n",
       "                           Mean Squared Error Score  Root Mean Squared Error  \n",
       "RandomForestRegressor                  4.478130e+06              2116.159209  \n",
       "KNeighborsRegressor                    6.159150e+06              2481.763405  \n",
       "DecisionTreeRegressor                  6.759208e+06              2599.847688  \n",
       "ExtraTreeRegressor                     7.710745e+06              2776.822849  \n",
       "GradientBoostingRegressor              2.297941e+07              4793.684158  \n",
       "MLPRegressor                           3.230554e+07              5683.796248  \n",
       "LinearRegression                       3.834255e+07              6192.136089  \n",
       "AdaBoostRegressor                      3.897544e+07              6243.031118  \n",
       "Ridge                                  2.180303e+08             14765.850109  "
      ]
     },
     "execution_count": 51,
     "metadata": {},
     "output_type": "execute_result"
    }
   ],
   "source": [
    "score_pd=pd.DataFrame(score_dict).transpose().sort_values(\"R2 Score\",ascending=False)\n",
    "score_pd"
   ]
  },
  {
   "cell_type": "code",
   "execution_count": 52,
   "id": "1ebe0277",
   "metadata": {},
   "outputs": [
    {
     "data": {
      "image/png": "[encoded data removed]",
      "text/plain": [
       "<Figure size 1080x1440 with 4 Axes>"
      ]
     },
     "metadata": {
      "needs_background": "light"
     },
     "output_type": "display_data"
    }
   ],
   "source": [
    "fig,ax=plt.subplots(score_pd.shape[1],1,figsize=(15,20))\n",
    "\n",
    "axi=0\n",
    "for col in score_pd.columns:\n",
    "    sns.lineplot(data=score_pd[[col]],ax=ax[axi])\n",
    "    axi+=1\n",
    "plt.tight_layout()"
   ]
  }
 ],
 "metadata": {
  "kernelspec": {
   "display_name": "Python 3 (ipykernel)",
   "language": "python",
   "name": "python3"
  },
  "language_info": {
   "codemirror_mode": {
    "name": "ipython",
    "version": 3
   },
   "file_extension": ".py",
   "mimetype": "text/x-python",
   "name": "python",
   "nbconvert_exporter": "python",
   "pygments_lexer": "ipython3",
   "version": "3.9.12"
  }
 },
 "nbformat": 4,
 "nbformat_minor": 5
}
